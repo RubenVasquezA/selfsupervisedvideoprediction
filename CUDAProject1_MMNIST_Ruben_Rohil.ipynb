{
  "nbformat": 4,
  "nbformat_minor": 0,
  "metadata": {
    "colab": {
      "name": "CUDAProject1_MMNIST_Ruben_Rohil.ipynb",
      "provenance": [],
      "collapsed_sections": [],
      "toc_visible": true
    },
    "kernelspec": {
      "display_name": "Python 3",
      "name": "python3"
    },
    "language_info": {
      "name": "python"
    },
    "accelerator": "GPU"
  },
  "cells": [
    {
      "cell_type": "markdown",
      "metadata": {
        "id": "6vSi6BzZkVqk"
      },
      "source": [
        "Final Project 1: Self-supervised Video Prediction \n",
        "\n",
        "MOVING MNIST\n",
        "\n",
        "\n",
        "\n",
        "*   Ruben Vasquez (Matrikel nr: 3340562 ; Email: s6ruvasq@uni-bonn.de)\n",
        "*   Rohil Rao (Matrikel nr: 3299480 ; Email: s6roraoo@uni-bonn.de)\n",
        "\n",
        "    \n"
      ]
    },
    {
      "cell_type": "markdown",
      "metadata": {
        "id": "S2Y5oWLBCDSm"
      },
      "source": [
        "# Imports\n",
        "\n"
      ]
    },
    {
      "cell_type": "code",
      "metadata": {
        "colab": {
          "base_uri": "https://localhost:8080/"
        },
        "id": "HXJyISSPHBmh",
        "outputId": "cded6ae9-49be-480d-c753-112971dea449"
      },
      "source": [
        "pip install numpngw"
      ],
      "execution_count": 1,
      "outputs": [
        {
          "output_type": "stream",
          "text": [
            "Collecting numpngw\n",
            "  Downloading https://files.pythonhosted.org/packages/48/99/a2482bbf4d3a663042f496e9a23fb68b068e8768baf0183293f3e5f9aaad/numpngw-0.0.8-py3-none-any.whl\n",
            "Requirement already satisfied: numpy>=1.6.0 in /usr/local/lib/python3.7/dist-packages (from numpngw) (1.19.5)\n",
            "Installing collected packages: numpngw\n",
            "Successfully installed numpngw-0.0.8\n"
          ],
          "name": "stdout"
        }
      ]
    },
    {
      "cell_type": "code",
      "metadata": {
        "colab": {
          "base_uri": "https://localhost:8080/"
        },
        "id": "YWyuC3yXHDLC",
        "outputId": "55d85abb-c6b5-4cd6-9e8c-8dc1df82df2b"
      },
      "source": [
        "pip install av"
      ],
      "execution_count": 2,
      "outputs": [
        {
          "output_type": "stream",
          "text": [
            "Collecting av\n",
            "\u001b[?25l  Downloading https://files.pythonhosted.org/packages/66/ff/bacde7314c646a2bd2f240034809a10cc3f8b096751284d0828640fff3dd/av-8.0.3-cp37-cp37m-manylinux2010_x86_64.whl (37.2MB)\n",
            "\u001b[K     |████████████████████████████████| 37.2MB 73kB/s \n",
            "\u001b[?25hInstalling collected packages: av\n",
            "Successfully installed av-8.0.3\n"
          ],
          "name": "stdout"
        }
      ]
    },
    {
      "cell_type": "code",
      "metadata": {
        "colab": {
          "base_uri": "https://localhost:8080/"
        },
        "id": "H7rJ6iIVHQEa",
        "outputId": "c0bef24f-dd00-4cde-90da-14ad0d1c0185"
      },
      "source": [
        "pip install kornia"
      ],
      "execution_count": 3,
      "outputs": [
        {
          "output_type": "stream",
          "text": [
            "Collecting kornia\n",
            "\u001b[?25l  Downloading https://files.pythonhosted.org/packages/ae/b2/8a968f1d7fb1d651a77c1ad7ffce9fc7b4dbd250eecaa9e2f21714fcfb2e/kornia-0.5.0-py2.py3-none-any.whl (271kB)\n",
            "\r\u001b[K     |█▏                              | 10kB 18.4MB/s eta 0:00:01\r\u001b[K     |██▍                             | 20kB 25.2MB/s eta 0:00:01\r\u001b[K     |███▋                            | 30kB 24.4MB/s eta 0:00:01\r\u001b[K     |████▉                           | 40kB 21.5MB/s eta 0:00:01\r\u001b[K     |██████                          | 51kB 21.3MB/s eta 0:00:01\r\u001b[K     |███████▎                        | 61kB 16.0MB/s eta 0:00:01\r\u001b[K     |████████▌                       | 71kB 16.4MB/s eta 0:00:01\r\u001b[K     |█████████▋                      | 81kB 16.0MB/s eta 0:00:01\r\u001b[K     |██████████▉                     | 92kB 15.1MB/s eta 0:00:01\r\u001b[K     |████████████                    | 102kB 14.7MB/s eta 0:00:01\r\u001b[K     |█████████████▎                  | 112kB 14.7MB/s eta 0:00:01\r\u001b[K     |██████████████▌                 | 122kB 14.7MB/s eta 0:00:01\r\u001b[K     |███████████████▊                | 133kB 14.7MB/s eta 0:00:01\r\u001b[K     |█████████████████               | 143kB 14.7MB/s eta 0:00:01\r\u001b[K     |██████████████████              | 153kB 14.7MB/s eta 0:00:01\r\u001b[K     |███████████████████▎            | 163kB 14.7MB/s eta 0:00:01\r\u001b[K     |████████████████████▌           | 174kB 14.7MB/s eta 0:00:01\r\u001b[K     |█████████████████████▊          | 184kB 14.7MB/s eta 0:00:01\r\u001b[K     |███████████████████████         | 194kB 14.7MB/s eta 0:00:01\r\u001b[K     |████████████████████████▏       | 204kB 14.7MB/s eta 0:00:01\r\u001b[K     |█████████████████████████▍      | 215kB 14.7MB/s eta 0:00:01\r\u001b[K     |██████████████████████████▌     | 225kB 14.7MB/s eta 0:00:01\r\u001b[K     |███████████████████████████▊    | 235kB 14.7MB/s eta 0:00:01\r\u001b[K     |█████████████████████████████   | 245kB 14.7MB/s eta 0:00:01\r\u001b[K     |██████████████████████████████▏ | 256kB 14.7MB/s eta 0:00:01\r\u001b[K     |███████████████████████████████▍| 266kB 14.7MB/s eta 0:00:01\r\u001b[K     |████████████████████████████████| 276kB 14.7MB/s \n",
            "\u001b[?25hRequirement already satisfied: torch>=1.6.0 in /usr/local/lib/python3.7/dist-packages (from kornia) (1.8.1+cu101)\n",
            "Requirement already satisfied: numpy in /usr/local/lib/python3.7/dist-packages (from kornia) (1.19.5)\n",
            "Requirement already satisfied: typing-extensions in /usr/local/lib/python3.7/dist-packages (from torch>=1.6.0->kornia) (3.7.4.3)\n",
            "Installing collected packages: kornia\n",
            "Successfully installed kornia-0.5.0\n"
          ],
          "name": "stdout"
        }
      ]
    },
    {
      "cell_type": "code",
      "metadata": {
        "id": "PdKFqjUFYDPC"
      },
      "source": [
        "import matplotlib \n",
        "matplotlib.rcParams['figure.dpi'] = 80"
      ],
      "execution_count": 4,
      "outputs": []
    },
    {
      "cell_type": "code",
      "metadata": {
        "id": "FCNXhvNlw56T"
      },
      "source": [
        "import torch\n",
        "import torch.nn as nn\n",
        "from torch.nn import init\n",
        "import torch.nn.functional as F\n",
        "\n",
        "from torch.autograd import Variable\n",
        "import torch.optim as optim\n",
        "from torch.optim import lr_scheduler\n",
        "from torch.utils.data import Dataset, DataLoader\n",
        "\n",
        "import torchvision\n",
        "from torchvision import datasets, models, transforms\n",
        "from torchvision.models.resnet import ResNet, BasicBlock\n",
        "\n",
        "import numpy as np\n",
        "import matplotlib.pyplot as plt\n",
        "from matplotlib.pyplot import figure\n",
        "import time, os, copy\n",
        "from PIL import Image\n",
        "import natsort\n",
        "import cv2\n",
        "import random \n",
        "\n",
        "\n",
        "from PIL import Image\n",
        "import torchvision.transforms.functional as TF\n",
        "from torch.utils.data import Dataset, DataLoader\n",
        "import numpy as np\n",
        "import os\n",
        "import cv2\n",
        "from tqdm import tqdm\n",
        "\n",
        "from kornia.losses import ssim_loss\n",
        "from torchsummary import summary"
      ],
      "execution_count": 5,
      "outputs": []
    },
    {
      "cell_type": "markdown",
      "metadata": {
        "id": "50T7y47yvUEk"
      },
      "source": [
        "## Add Seed"
      ]
    },
    {
      "cell_type": "code",
      "metadata": {
        "id": "jph1xz1MvTc9"
      },
      "source": [
        "torch.backends.cudnn.deterministic = True\n",
        "random.seed(hash(\"setting random seeds\") % 2**32 - 1)\n",
        "np.random.seed(hash(\"improves reproducibility\") % 2**32 - 1)\n",
        "torch.manual_seed(hash(\"by removing stochasticity\") % 2**32 - 1)\n",
        "torch.cuda.manual_seed_all(hash(\"so runs are repeatable\") % 2**32 - 1)"
      ],
      "execution_count": 10,
      "outputs": []
    },
    {
      "cell_type": "code",
      "metadata": {
        "colab": {
          "base_uri": "https://localhost:8080/"
        },
        "id": "Nq_ky1jPbHQz",
        "outputId": "240f19ff-4f36-49d0-ff92-479255e54045"
      },
      "source": [
        "device = torch.device(\"cuda\" if torch.cuda.is_available() else \"cpu\")\n",
        "print(device)"
      ],
      "execution_count": 9,
      "outputs": [
        {
          "output_type": "stream",
          "text": [
            "cuda\n"
          ],
          "name": "stdout"
        }
      ]
    },
    {
      "cell_type": "code",
      "metadata": {
        "colab": {
          "base_uri": "https://localhost:8080/"
        },
        "id": "HvC0JQ8UbA61",
        "outputId": "8694ad9b-a909-4711-e75e-e7c1fc6e715b"
      },
      "source": [
        "from google.colab import drive\n",
        "drive.mount('/content/gdrive') #, force_remount = True"
      ],
      "execution_count": 10,
      "outputs": [
        {
          "output_type": "stream",
          "text": [
            "Mounted at /content/gdrive\n"
          ],
          "name": "stdout"
        }
      ]
    },
    {
      "cell_type": "markdown",
      "metadata": {
        "id": "iTg6TqjUX5t4"
      },
      "source": [
        "# Conv/ LDC"
      ]
    },
    {
      "cell_type": "code",
      "metadata": {
        "id": "lW_-MR-n18MI"
      },
      "source": [
        "# Taken from the ResNet pytorch implementation\n",
        "\n",
        "def Conv3x3(in_planes: int, out_planes: int, stride: int = 1, groups: int = 1, dilation: int = 1) -> nn.Conv2d:\n",
        "    \"\"\"3x3 convolution with padding\"\"\"\n",
        "    return nn.Conv2d(in_planes, out_planes, kernel_size=3, stride=stride,\n",
        "                     padding=dilation, groups=groups, bias=False, dilation=dilation)\n",
        "\n",
        "\n",
        "def Conv1x1(in_planes: int, out_planes: int, stride: int = 1) -> nn.Conv2d:\n",
        "    \"\"\"1x1 convolution\"\"\"\n",
        "    return nn.Conv2d(in_planes, out_planes, kernel_size = 1, stride=stride, bias=False)"
      ],
      "execution_count": 23,
      "outputs": []
    },
    {
      "cell_type": "code",
      "metadata": {
        "id": "mbiD8Yo6_Mny"
      },
      "source": [
        "# https://github.com/jacobkimmel/pytorch_convgru/blob/master/convgru.py\n",
        "\n",
        "class ConvGRUCell(nn.Module):\n",
        "    \"\"\"\n",
        "    Generate a convolutional GRU cell\n",
        "    \"\"\"\n",
        "\n",
        "    def __init__(self, input_size, hidden_size, kernel_size):\n",
        "        super().__init__()\n",
        "        padding = kernel_size // 2\n",
        "        self.input_size = input_size\n",
        "        self.hidden_size = hidden_size\n",
        "        self.reset_gate = nn.Conv2d(input_size + hidden_size, hidden_size, kernel_size, padding=padding)\n",
        "        self.update_gate = nn.Conv2d(input_size + hidden_size, hidden_size, kernel_size, padding=padding) \n",
        "        self.out_gate = nn.Conv2d(input_size + hidden_size, hidden_size, kernel_size, padding=padding)\n",
        "\n",
        "        init.orthogonal_(self.reset_gate.weight)\n",
        "        init.orthogonal_(self.update_gate.weight)\n",
        "        init.orthogonal_(self.out_gate.weight)\n",
        "        init.constant_(self.reset_gate.bias, 0.)\n",
        "        init.constant_(self.update_gate.bias, 0.)\n",
        "        init.constant_(self.out_gate.bias, 0.)\n",
        "\n",
        "\n",
        "    def forward(self, input_, prev_state):\n",
        "\n",
        "        # get batch and spatial sizes\n",
        "        batch_size = input_.data.size()[0]\n",
        "        spatial_size = input_.data.size()[2:]\n",
        "\n",
        "        # generate empty prev_state, if None is provided\n",
        "        if prev_state is None:\n",
        "            state_size = [batch_size, self.hidden_size] + list(spatial_size)\n",
        "            if torch.cuda.is_available():\n",
        "                prev_state = Variable(torch.zeros(state_size).to(input_.device))\n",
        "            else:\n",
        "                prev_state = Variable(torch.zeros(state_size))\n",
        "\n",
        "        # data size is [batch, channel, height, width]\n",
        "        stacked_inputs = torch.cat([input_, prev_state], dim=1)\n",
        "        update = torch.sigmoid(self.update_gate(stacked_inputs))\n",
        "        reset = torch.sigmoid(self.reset_gate(stacked_inputs))\n",
        "        out_inputs = torch.tanh(self.out_gate(torch.cat([input_, prev_state * reset], dim=1)))\n",
        "        new_state = prev_state * (1 - update) + out_inputs * update\n",
        "\n",
        "        return new_state"
      ],
      "execution_count": 24,
      "outputs": []
    },
    {
      "cell_type": "code",
      "metadata": {
        "id": "vvDwAxHp_T93"
      },
      "source": [
        "# https://github.com/AIS-Bonn/LocDepVideoPrediction\n",
        "\n",
        "class LocationAwareConv2d(torch.nn.Conv2d):\n",
        "    def __init__(self,locationAware,gradient,w,h,in_channels, out_channels, kernel_size, stride=1, padding=0, dilation=1, groups=1, bias=True):\n",
        "        super().__init__(in_channels, out_channels, kernel_size, stride=stride, padding=padding, dilation=dilation, groups=groups, bias=bias)\n",
        "        if locationAware:\n",
        "            self.locationBias=torch.nn.Parameter(torch.zeros(w,h,3))\n",
        "            self.locationEncode=torch.autograd.Variable(torch.ones(w,h,3))\n",
        "            if gradient:\n",
        "                for i in range(w):\n",
        "                    self.locationEncode[i,:,1]=self.locationEncode[:,i,0]=i/float(w-1)\n",
        "        \n",
        "        self.up=torch.nn.Upsample(size=(w,h), mode='bilinear', align_corners=False)\n",
        "        self.w=w\n",
        "        self.h=h\n",
        "        self.locationAware=locationAware\n",
        "    def forward(self,inputs):\n",
        "        if self.locationAware:\n",
        "            if self.locationBias.device != inputs.device:\n",
        "                self.locationBias=self.locationBias.to(device)\n",
        "            if self.locationEncode.device != inputs.device:\n",
        "                self.locationEncode=self.locationEncode.to(device)\n",
        "            b=self.locationBias*self.locationEncode\n",
        "        convRes=super().forward(inputs)\n",
        "        if convRes.shape[2]!=self.w and convRes.shape[3]!=self.h:\n",
        "            convRes=self.up(convRes)\n",
        "        if self.locationAware:\n",
        "            return convRes+b[:,:,0]+b[:,:,1]+b[:,:,2]\n",
        "        else:\n",
        "            return convRes"
      ],
      "execution_count": 25,
      "outputs": []
    },
    {
      "cell_type": "markdown",
      "metadata": {
        "id": "YB9EPZxRX9A4"
      },
      "source": [
        "# Architecture"
      ]
    },
    {
      "cell_type": "code",
      "metadata": {
        "id": "TpCM8hZbwOrn"
      },
      "source": [
        "class Project1_Split(ResNet):\n",
        "  def __init__(self, channels, height, width):\n",
        "    super(Project1_Split, self).__init__(BasicBlock, [2, 2, 2, 2])\n",
        "\n",
        "    '''\n",
        "    Delete fc layer and maxpool layer\n",
        "    '''\n",
        "    del self.avgpool\n",
        "    del self.fc\n",
        "    \n",
        "    \n",
        "    del self.layer3\n",
        "    del self.layer4\n",
        "\n",
        "    '''\n",
        "    Adapt self.conv1 of Resnet for M-MNIST to check only 1 channel\n",
        "    '''\n",
        "    self.conv1 = nn.Conv2d(channels, 64, kernel_size=(7, 7), stride=(2, 2), padding=(3, 3), bias=False)\n",
        "    self.relu = nn.LeakyReLU(0.1)#nn.ReLU(inplace= False)\n",
        "    \n",
        "    '''\n",
        "    Middle Layer 1 \n",
        "    '''\n",
        "    self.m1_conv1x1 =  Conv1x1( in_planes = 64, out_planes = 64)\n",
        "    self.m1_convgru3x3 = ConvGRUCell(input_size = 64, hidden_size = 64, kernel_size = 3)\n",
        "    self.m1_convgru5x5 = ConvGRUCell(input_size = 64, hidden_size = 64, kernel_size = 5)\n",
        "    self.m1_convgru7x7 = ConvGRUCell(input_size = 64, hidden_size = 64, kernel_size = 7)\n",
        "    \n",
        "    '''\n",
        "    Middle Layer 2\n",
        "    '''\n",
        "    self.m2_conv1x1 =  Conv1x1( in_planes = 64, out_planes = 64)\n",
        "    self.m2_convgru3x3 = ConvGRUCell(input_size = 64, hidden_size = 64, kernel_size = 3)\n",
        "    self.m2_convgru5x5 = ConvGRUCell(input_size = 64, hidden_size = 64, kernel_size = 5)\n",
        "    self.m2_convgru7x7 = ConvGRUCell(input_size = 64, hidden_size = 64, kernel_size = 7)\n",
        "    \n",
        "   \n",
        "    self.layer7 = nn.Sequential(\n",
        "                                nn.ReLU(),\n",
        "                                #nn.LeakyReLU(0.1),\n",
        "                                Conv3x3(128,1024),\n",
        "                                nn.PixelShuffle(2),\n",
        "                                Conv3x3(256,64)\n",
        "                                )\n",
        "   \n",
        " \n",
        "    self.layer8 = nn.Sequential(\n",
        "                                nn.ReLU(),\n",
        "                                #nn.LeakyReLU(0.01),\n",
        "                                nn.BatchNorm2d(320),\n",
        "                                Conv3x3(320,1024),\n",
        "                                nn.PixelShuffle(2), \n",
        "                                Conv3x3(256,64)   \n",
        "                                )\n",
        "    \n",
        "    self.output_layer = nn.Sequential(\n",
        "                                Conv1x1(320, channels),\n",
        "                                nn.Upsample(scale_factor = 2, mode = 'nearest')\n",
        "                                )\n",
        "\n",
        "\n",
        "  def forward(self,x, hidden_states = [], first_frame = True):\n",
        "      '''\n",
        "      For the first frame we initialize the hidden states for the ConvGRUs as None Type.\n",
        "      ''' \n",
        "      if (first_frame == True):\n",
        "        for i in range(12):\n",
        "          hidden_states.append(None) \n",
        "      \n",
        "      '''\n",
        "      Assign the values of hidden states to the variables used in the forward pass logic.\n",
        "      '''\n",
        "\n",
        "      h1_1 = hidden_states[0]; h1_2 = hidden_states[1]; h1_3 = hidden_states[2]\n",
        "      h2_1 = hidden_states[3]; h2_2 = hidden_states[4]; h2_3 = hidden_states[5]\n",
        "      \n",
        "      x_0 = self.conv1(x)\n",
        "\n",
        "      x_1 = self.bn1(x_0)\n",
        "      x_1 = self.relu(x_1)\n",
        "      x_1 = self.maxpool(x_1)\n",
        "\n",
        "      x_1 = self.layer1(x_1)  \n",
        "      x_2 = self.layer2(x_1)\n",
        "   \n",
        "      x_7 = self.layer7(x_2)\n",
        "      x_m2_conv1x1 = self.m2_conv1x1( x_1 )\n",
        "      x_m2_convgru3x3 = self.m2_convgru3x3( x_1 , h2_1)\n",
        "      x_m2_convgru5x5 = self.m2_convgru5x5( x_1 , h2_2)\n",
        "      x_m2_convgru7x7 = self.m2_convgru7x7( x_1 , h2_3)\n",
        "      x_7_cat = torch.cat((x_7, x_m2_conv1x1, x_m2_convgru3x3, x_m2_convgru5x5, x_m2_convgru7x7), 1)\n",
        "\n",
        "      x_8 = self.layer8(x_7_cat)\n",
        "      x_m1_conv1x1 = self.m1_conv1x1( x_0 )\n",
        "      x_m1_convgru3x3 = self.m1_convgru3x3( x_0 , h1_1 )\n",
        "      x_m1_convgru5x5 = self.m1_convgru5x5( x_0 , h1_2 )\n",
        "      x_m1_convgru7x7 = self.m1_convgru7x7( x_0 , h1_3 )\n",
        "      x_8_cat = torch.cat((x_8, x_m1_conv1x1, x_m1_convgru3x3, x_m1_convgru5x5, x_m1_convgru7x7), 1)\n",
        "\n",
        "      out = self.output_layer(x_8_cat)\n",
        "\n",
        "      ''' Maintain/Update Hidden States '''\n",
        "      hidden_states = [x_m1_convgru3x3, x_m1_convgru5x5, x_m1_convgru7x7 , \n",
        "                       x_m2_convgru3x3, x_m2_convgru5x5, x_m2_convgru7x7 , \n",
        "                       ]\n",
        "\n",
        "      return out, hidden_states"
      ],
      "execution_count": 26,
      "outputs": []
    },
    {
      "cell_type": "code",
      "metadata": {
        "id": "jtgndIR3x4uR"
      },
      "source": [
        ""
      ],
      "execution_count": 20,
      "outputs": []
    },
    {
      "cell_type": "markdown",
      "metadata": {
        "id": "YWOwNvQ7CIjT"
      },
      "source": [
        "# Dataset"
      ]
    },
    {
      "cell_type": "code",
      "metadata": {
        "id": "DFjZ8cP3CSNY"
      },
      "source": [
        "class MMNIST_Data(Dataset):\n",
        "  def __init__(self, path, instances, indices, mode = 'Train'):\n",
        "    \n",
        "\n",
        "    if mode == 'Train':\n",
        "      self.total_data = torch.from_numpy(np.load(path + 'mmnist64_train.npy')) #.transpose((1,0,2,3))\n",
        "    elif mode == 'Val':\n",
        "      self.total_data = torch.from_numpy(np.load(path + 'mmnist64_val.npy')) #.transpose((1,0,2,3))\n",
        "    elif mode == 'Test':\n",
        "      self.total_data = torch.from_numpy(np.load(path + 'mmnist64_test.npy')) #.transpose((1,0,2,3))\n",
        "  \n",
        "    self.indexes = indices\n",
        "\n",
        "\n",
        "\n",
        "    self.data = self.total_data[self.indexes]/255 #.reshape(instances,6,1,224,224)\n",
        "    self.data = torch.unsqueeze(self.data, dim = 2)\n",
        "\n",
        "    norm = transforms.Normalize( (self.data.mean()), (self.data.std()) )\n",
        "    self.data = norm(self.data)\n",
        "\n",
        "    del self.total_data\n",
        "\n",
        "\n",
        "    self.len = len(self.indexes)\n",
        "\n",
        "  def __getitem__(self, index):\n",
        "    return [ self.indexes[index],self.data[:,0:3,:,:,:][index], self.data[:,3:6,:,:,:][index] ]\n",
        "\n",
        "  def __len__(self):\n",
        "    return self.len"
      ],
      "execution_count": 28,
      "outputs": []
    },
    {
      "cell_type": "code",
      "metadata": {
        "id": "NDxMXTM6CUHg"
      },
      "source": [
        ""
      ],
      "execution_count": 21,
      "outputs": []
    },
    {
      "cell_type": "markdown",
      "metadata": {
        "id": "J0ner-pyYCAd"
      },
      "source": [
        "# DataLoader"
      ]
    },
    {
      "cell_type": "code",
      "metadata": {
        "colab": {
          "base_uri": "https://localhost:8080/"
        },
        "id": "s3XpEBE9YEC3",
        "outputId": "195b7894-cfba-4b0c-a2cc-e8dc77c135c1"
      },
      "source": [
        "total = 10000\n",
        "train_instances = int(0.7*total)\n",
        "val_instances = int(0.2*total)\n",
        "test_instances = int(0.1*total)\n",
        "train_indices = sorted(random.sample(range(0, 7000), train_instances))\n",
        "val_indices = sorted(random.sample(range(0, 2000), val_instances))\n",
        "test_indices = sorted(random.sample(range(0, 1000), test_instances))\n",
        "print(len(train_indices))\n",
        "print(len(val_indices))\n",
        "print(len(test_indices))"
      ],
      "execution_count": 29,
      "outputs": [
        {
          "output_type": "stream",
          "text": [
            "7000\n",
            "2000\n",
            "1000\n"
          ],
          "name": "stdout"
        }
      ]
    },
    {
      "cell_type": "code",
      "metadata": {
        "colab": {
          "base_uri": "https://localhost:8080/"
        },
        "id": "58TIhNOCYHcC",
        "outputId": "b36eb476-9116-4672-9a96-6224bd6a4f5a"
      },
      "source": [
        "# Dataset\n",
        "path = '/content/gdrive/MyDrive/CUDA/MMNIST/'\n",
        "train_dataset = MMNIST_Data(path = '/content/gdrive/MyDrive/CUDA/MMNIST/', instances = len(train_indices), indices = train_indices,  mode = 'Train')\n",
        "\n",
        "path = '/content/gdrive/MyDrive/CUDA/MMNIST/'\n",
        "val_dataset = MMNIST_Data(path = '/content/gdrive/MyDrive/CUDA/MMNIST/', instances = len(val_indices), indices = val_indices,  mode = 'Val')\n",
        "\n",
        "path = '/content/gdrive/MyDrive/CUDA/MMNIST/'\n",
        "test_dataset = MMNIST_Data(path = '/content/gdrive/MyDrive/CUDA/MMNIST/', instances = len(train_indices), indices = test_indices, mode = 'Test')\n",
        "\n",
        "print()\n",
        "print(len(train_dataset))\n",
        "print(len(val_dataset)) \n",
        "print(len(test_dataset)) "
      ],
      "execution_count": 30,
      "outputs": [
        {
          "output_type": "stream",
          "text": [
            "\n",
            "7000\n",
            "2000\n",
            "1000\n"
          ],
          "name": "stdout"
        }
      ]
    },
    {
      "cell_type": "code",
      "metadata": {
        "id": "gMkHunolYR3I"
      },
      "source": [
        "# Dataloaders\n",
        "# Batch Size\n",
        "\n",
        "batch_size = 64\n",
        "train_loader = torch.utils.data.DataLoader(dataset = train_dataset, batch_size = batch_size, shuffle = True ,num_workers = 0)\n",
        "\n",
        "batch_size = 64\n",
        "val_loader = torch.utils.data.DataLoader(dataset = val_dataset, batch_size = batch_size, shuffle = False ,num_workers = 0)\n",
        "\n",
        "batch_size = 3\n",
        "test_loader = torch.utils.data.DataLoader(dataset = test_dataset, batch_size = batch_size, shuffle = False ,num_workers = 0)\n"
      ],
      "execution_count": 31,
      "outputs": []
    },
    {
      "cell_type": "markdown",
      "metadata": {
        "id": "2ksJLPBfCbZi"
      },
      "source": [
        "# Validation"
      ]
    },
    {
      "cell_type": "code",
      "metadata": {
        "id": "d4pArXR_RycX"
      },
      "source": [
        "def validation( epoch, val_loader, model, device , alpha = 0.9, window_size = 3):\n",
        "\n",
        "  print(\"*************************** VAL ***************************\")\n",
        "  print(\"Epoch:\",epoch)\n",
        "        \n",
        "  Loss_History = [] ; L2_History = [] ;  DSSIM_History = []\n",
        "\n",
        "  model.eval()\n",
        "\n",
        "  with torch.no_grad():\n",
        "\n",
        "    for batch_idx, frames in enumerate(val_loader, 0):\n",
        "        \n",
        "        Pred = []\n",
        "        GT = []\n",
        "        Val_Loss = torch.zeros(size = (1,1)).to(device) # Reset Accumulated Loss\n",
        "            \n",
        "################################################################################################################################################################################################################\n",
        "\n",
        "      # Iterate over GT0, GT1, GT2 \n",
        "        for i in range(0,3):\n",
        "          first_frame = False\n",
        "          if (i == 0):\n",
        "            hidden = []\n",
        "            first_frame = True\n",
        "\n",
        "          output, hidden = model( frames[1][:,i,:,:,:].reshape(-1,1,height,width).float().to(device) , hidden, first_frame = first_frame)\n",
        "          #output = torch.clamp(output, min = 0 , max = 1)\n",
        "\n",
        "        # Append Pred0 and GT3( Output obtained after first 3 input frames to a list)\n",
        "        Pred.append( output )\n",
        "        GT.append( frames[2][:,0,:,:,:].reshape(-1,1,height,width).float().to(device) )\n",
        "          \n",
        "        # Now run two more times to obtain Pred1 and Pred2 (Also collect GT_1 and GT_2)\n",
        "        for j in range(1,3):  \n",
        "          first_frame = False\n",
        "          output, hidden = model( output , hidden, first_frame = first_frame)\n",
        "\n",
        "          Pred.append(output)\n",
        "          GT.append(frames[2][:,j,:,:,:].reshape(-1,1,height,width).float().to(device))\n",
        "#################################################################################################################################################################################################################\n",
        "\n",
        "        Pred = torch.cat(Pred, dim = 0)\n",
        "        GT = torch.cat(GT, dim = 0)\n",
        "\n",
        "        L2_loss = l2_loss(Pred, GT)\n",
        "        DSSIM_loss = ssim_loss(Pred, GT, window_size = ssim_window )\n",
        "        Val_Loss = (1-alpha)*L2_loss + alpha*DSSIM_loss\n",
        "\n",
        "        #Loss, L2_loss, DSSIM_loss = dssim_l2_loss(gt, pred)\n",
        "      \n",
        "        #Loss for all frames\n",
        "        Loss_History.append(Val_Loss.item())\n",
        "\n",
        "        L2_History.append(L2_loss.item())\n",
        "  \n",
        "        DSSIM_History.append(DSSIM_loss.item())\n",
        "        if batch_idx%10 == 0:\n",
        "          print(\"VAL :: Epoch\",epoch,\"Batch\",batch_idx,\"| Loss:\",np.round(Val_Loss.item(),4),\"| L2:\",np.round(L2_loss.item(),4),\"| DSSIM:\",np.round(DSSIM_loss.item(),4))    \n",
        "\n",
        "  # Gather images for final batch in epoch\n",
        "  Images = [frames, Pred ]  \n",
        "\n",
        "  return sum(Loss_History)/len(Loss_History), sum(L2_History)/len(L2_History), sum(DSSIM_History)/len(DSSIM_History), Images\n",
        "  "
      ],
      "execution_count": 32,
      "outputs": []
    },
    {
      "cell_type": "code",
      "metadata": {
        "id": "Ve5wu2GFcLry"
      },
      "source": [
        "def plot_grad_flow(named_parameters):\n",
        "    ave_grads = []\n",
        "    layers = []\n",
        "    for n, p in named_parameters:\n",
        "        if(p.requires_grad) and (\"bias\" not in n):\n",
        "            layers.append(n)\n",
        "            ave_grads.append(p.grad.abs().mean())\n",
        "    plt.plot(ave_grads, alpha=0.3, color=\"b\")\n",
        "    plt.hlines(0, 0, len(ave_grads)+1, linewidth=1, color=\"k\" )\n",
        "    plt.xticks(range(0,len(ave_grads), 1), layers, rotation=\"vertical\")\n",
        "    plt.xlim(xmin=0, xmax=len(ave_grads))\n",
        "    plt.xlabel(\"Layers\")\n",
        "    plt.ylabel(\"average gradient\")\n",
        "    plt.title(\"Gradient flow\")\n",
        "    plt.grid(True)\n",
        "    plt.show()\n",
        "    plt.pause(1)"
      ],
      "execution_count": 33,
      "outputs": []
    },
    {
      "cell_type": "markdown",
      "metadata": {
        "id": "Hr-FxQExxRFA"
      },
      "source": [
        "# Training"
      ]
    },
    {
      "cell_type": "markdown",
      "metadata": {
        "id": "CztSjO5klc7o"
      },
      "source": [
        "## Initialize parameters"
      ]
    },
    {
      "cell_type": "code",
      "metadata": {
        "id": "AN11nW7pYprk"
      },
      "source": [
        "Train_imgs = []\n",
        "\n",
        "Val_imgs = []"
      ],
      "execution_count": 34,
      "outputs": []
    },
    {
      "cell_type": "code",
      "metadata": {
        "id": "1g7Wxe_8wFyL"
      },
      "source": [
        "Epoch_Loss = []\n",
        "Epoch_L2 = []\n",
        "Epoch_DSSIM = []\n",
        "\n",
        "Val_Epoch_Loss = []\n",
        "Val_Epoch_L2 = []\n",
        "Val_Epoch_DSSIM = []"
      ],
      "execution_count": 35,
      "outputs": []
    },
    {
      "cell_type": "code",
      "metadata": {
        "id": "k1iVHYe2RyeI"
      },
      "source": [
        "# Model \n",
        "\n",
        "height= 64; width= 64; channels = 1\n",
        "model = Project1_Split(channels, height, width).to(device)"
      ],
      "execution_count": 36,
      "outputs": []
    },
    {
      "cell_type": "code",
      "metadata": {
        "id": "tnnaxSuOYkZF"
      },
      "source": [
        "l2_loss = torch.nn.MSELoss()"
      ],
      "execution_count": 37,
      "outputs": []
    },
    {
      "cell_type": "code",
      "metadata": {
        "colab": {
          "base_uri": "https://localhost:8080/"
        },
        "id": "JjPR_KAW6vpy",
        "outputId": "1d998342-d88b-4351-ce36-fb5947368907"
      },
      "source": [
        "for name,param in model.named_parameters():\n",
        "    if param.requires_grad is True:\n",
        "        print(name, param.requires_grad)"
      ],
      "execution_count": 38,
      "outputs": [
        {
          "output_type": "stream",
          "text": [
            "conv1.weight True\n",
            "bn1.weight True\n",
            "bn1.bias True\n",
            "layer1.0.conv1.weight True\n",
            "layer1.0.bn1.weight True\n",
            "layer1.0.bn1.bias True\n",
            "layer1.0.conv2.weight True\n",
            "layer1.0.bn2.weight True\n",
            "layer1.0.bn2.bias True\n",
            "layer1.1.conv1.weight True\n",
            "layer1.1.bn1.weight True\n",
            "layer1.1.bn1.bias True\n",
            "layer1.1.conv2.weight True\n",
            "layer1.1.bn2.weight True\n",
            "layer1.1.bn2.bias True\n",
            "layer2.0.conv1.weight True\n",
            "layer2.0.bn1.weight True\n",
            "layer2.0.bn1.bias True\n",
            "layer2.0.conv2.weight True\n",
            "layer2.0.bn2.weight True\n",
            "layer2.0.bn2.bias True\n",
            "layer2.0.downsample.0.weight True\n",
            "layer2.0.downsample.1.weight True\n",
            "layer2.0.downsample.1.bias True\n",
            "layer2.1.conv1.weight True\n",
            "layer2.1.bn1.weight True\n",
            "layer2.1.bn1.bias True\n",
            "layer2.1.conv2.weight True\n",
            "layer2.1.bn2.weight True\n",
            "layer2.1.bn2.bias True\n",
            "m1_conv1x1.weight True\n",
            "m1_convgru3x3.reset_gate.weight True\n",
            "m1_convgru3x3.reset_gate.bias True\n",
            "m1_convgru3x3.update_gate.weight True\n",
            "m1_convgru3x3.update_gate.bias True\n",
            "m1_convgru3x3.out_gate.weight True\n",
            "m1_convgru3x3.out_gate.bias True\n",
            "m1_convgru5x5.reset_gate.weight True\n",
            "m1_convgru5x5.reset_gate.bias True\n",
            "m1_convgru5x5.update_gate.weight True\n",
            "m1_convgru5x5.update_gate.bias True\n",
            "m1_convgru5x5.out_gate.weight True\n",
            "m1_convgru5x5.out_gate.bias True\n",
            "m1_convgru7x7.reset_gate.weight True\n",
            "m1_convgru7x7.reset_gate.bias True\n",
            "m1_convgru7x7.update_gate.weight True\n",
            "m1_convgru7x7.update_gate.bias True\n",
            "m1_convgru7x7.out_gate.weight True\n",
            "m1_convgru7x7.out_gate.bias True\n",
            "m2_conv1x1.weight True\n",
            "m2_convgru3x3.reset_gate.weight True\n",
            "m2_convgru3x3.reset_gate.bias True\n",
            "m2_convgru3x3.update_gate.weight True\n",
            "m2_convgru3x3.update_gate.bias True\n",
            "m2_convgru3x3.out_gate.weight True\n",
            "m2_convgru3x3.out_gate.bias True\n",
            "m2_convgru5x5.reset_gate.weight True\n",
            "m2_convgru5x5.reset_gate.bias True\n",
            "m2_convgru5x5.update_gate.weight True\n",
            "m2_convgru5x5.update_gate.bias True\n",
            "m2_convgru5x5.out_gate.weight True\n",
            "m2_convgru5x5.out_gate.bias True\n",
            "m2_convgru7x7.reset_gate.weight True\n",
            "m2_convgru7x7.reset_gate.bias True\n",
            "m2_convgru7x7.update_gate.weight True\n",
            "m2_convgru7x7.update_gate.bias True\n",
            "m2_convgru7x7.out_gate.weight True\n",
            "m2_convgru7x7.out_gate.bias True\n",
            "layer7.1.weight True\n",
            "layer7.3.weight True\n",
            "layer8.1.weight True\n",
            "layer8.1.bias True\n",
            "layer8.2.weight True\n",
            "layer8.4.weight True\n",
            "output_layer.0.weight True\n"
          ],
          "name": "stdout"
        }
      ]
    },
    {
      "cell_type": "code",
      "metadata": {
        "id": "UyK_brMv6KLf"
      },
      "source": [
        "#optimizer = torch.optim.Adam(model.parameters(), lr = 0.00001) # , weight_decay= 0.0001\n",
        "\n",
        "optimizer = optim.Adam([\n",
        "                        {\"params\":model.conv1.parameters(), \"lr\": 0.00001},\n",
        "                        {\"params\":model.bn1.parameters(), \"lr\": 0.00001},\n",
        "                        {\"params\":model.layer1.parameters(), \"lr\": 0.00001 },\n",
        "                        {\"params\":model.layer2.parameters(), \"lr\": 0.00001},\n",
        "                        \n",
        "\n",
        "                        {\"params\":model.m1_conv1x1.parameters(), \"lr\": 0.001 },\n",
        "                        {\"params\":model.m1_convgru3x3.parameters(), \"lr\": 0.001},\n",
        "                        {\"params\":model.m1_convgru5x5.parameters(), \"lr\": 0.001},\n",
        "                        {\"params\":model.m1_convgru7x7.parameters(), \"lr\": 0.001},\n",
        "                        {\"params\":model.m2_conv1x1.parameters(), \"lr\": 0.001},\n",
        "                        {\"params\":model.m2_convgru3x3.parameters(), \"lr\": 0.001},\n",
        "                        {\"params\":model.m2_convgru5x5.parameters(), \"lr\": 0.001},\n",
        "                        {\"params\":model.m2_convgru7x7.parameters(),\"lr\": 0.001},\n",
        "                       \n",
        "                       \n",
        "                        {\"params\":model.layer7.parameters()},\n",
        "                        {\"params\":model.layer8.parameters()},\n",
        "                        {\"params\":model.output_layer.parameters()}], lr = 0.0001)\n"
      ],
      "execution_count": 39,
      "outputs": []
    },
    {
      "cell_type": "code",
      "metadata": {
        "id": "q41cBtHEHTdy"
      },
      "source": [
        "no_of_epochs = 10\n",
        "ssim_window = 5\n",
        "alpha = 0.8"
      ],
      "execution_count": 40,
      "outputs": []
    },
    {
      "cell_type": "code",
      "metadata": {
        "colab": {
          "base_uri": "https://localhost:8080/"
        },
        "id": "6PX7SVFHDFhm",
        "outputId": "3dc08296-d0f5-4c4f-df7d-c82e5d000be5"
      },
      "source": [
        "for n in range(no_of_epochs):\n",
        "  model.train()\n",
        "  print(\"--------------------------------------------------------------------------------------\")\n",
        "  print(\"Epoch\",n)\n",
        "\n",
        "  Loss_History = []; L2_History = []; DSSIM_History = []\n",
        "  \n",
        "  for batch_idx, frames in enumerate(train_loader, 0):\n",
        "    Loss = torch.zeros(size = (1,1)).to(device) # Reset Accumulated Loss\n",
        "    Pred = []\n",
        "    GT = []\n",
        "\n",
        "    optimizer.zero_grad()\n",
        "    \n",
        "    ################################################################################################################################################################################################################\n",
        "    # MAIN TRAINING LOOP\n",
        "\n",
        "    # Iterate over GT0, GT1, GT2 \n",
        "    for i in range(0,3):\n",
        "      first_frame = False\n",
        "      if (i == 0):\n",
        "        hidden = []\n",
        "        first_frame = True\n",
        "\n",
        "      output, hidden = model( frames[1][:,i,:,:,:].reshape(-1,1,height,width).float().to(device) , hidden, first_frame = first_frame)\n",
        "     \n",
        "    # Append Pred0 and GT3( Output obtained after first 3 input frames to a list)\n",
        "    Pred.append( output )\n",
        "    GT.append( frames[2][:,0,:,:,:].reshape(-1,1,height,width).float().to(device) )\n",
        "      \n",
        "    # Now run two more times to obtain Pred1 and Pred2 (Also collect GT_1 and GT_2)\n",
        "    for j in range(1,3):  \n",
        "      first_frame = False\n",
        "      output, hidden = model( output , hidden, first_frame = first_frame)\n",
        "\n",
        "      Pred.append(output)\n",
        "      GT.append(frames[2][:,j,:,:,:].reshape(-1,1,height,width).float().to(device))\n",
        "    ################################################################################################################################################################################################################\n",
        "\n",
        "    Pred = torch.cat(Pred, dim = 0)\n",
        "    GT = torch.cat(GT, dim = 0)\n",
        "\n",
        "    L2_loss = l2_loss(Pred, GT)\n",
        "    DSSIM_loss = ssim_loss(Pred, GT, window_size = ssim_window )\n",
        "\n",
        "    Loss = (1-alpha)*L2_loss + alpha*DSSIM_loss\n",
        "\n",
        "    Loss.backward()\n",
        "\n",
        "    #Gradient Clipping\n",
        "    nn.utils.clip_grad_value_(model.parameters(), clip_value = 1.0)\n",
        "\n",
        "    optimizer.step()\n",
        "\n",
        "    Loss_History.append(Loss.item())\n",
        "    L2_History.append(L2_loss.item())\n",
        "    DSSIM_History.append(DSSIM_loss.item())\n",
        "\n",
        "    if batch_idx%1 == 0:\n",
        "      print(\"Train Epoch\",n,\"Batch\",batch_idx,\"| Loss:\",np.round(Loss.item(),4),\"| L2:\",np.round(L2_loss.item(),4),\"| DSSIM:\",np.round(DSSIM_loss.item(),4))  \n",
        "\n",
        "  \n",
        "  Epoch_Loss.append(sum(Loss_History)/len(Loss_History))\n",
        "  Epoch_L2.append(sum(L2_History)/len(L2_History))\n",
        "  Epoch_DSSIM.append(sum(DSSIM_History)/len(DSSIM_History))\n",
        "\n",
        "  Train_imgs = [frames, Pred]\n",
        "\n",
        "  # if n%5 == 0:  \n",
        "  #   plot_grad_flow(model.named_parameters())\n",
        "\n",
        "\n",
        "  Val_loss, Val_L2, Val_DSSIM, Val_imgs = validation( n, val_loader, model, device, alpha, ssim_window)\n",
        "      \n",
        "  Val_Epoch_Loss.append(Val_loss)\n",
        "  Val_Epoch_L2.append(Val_L2)\n",
        "  Val_Epoch_DSSIM.append(Val_DSSIM)\n"
      ],
      "execution_count": null,
      "outputs": [
        {
          "output_type": "stream",
          "text": [
            "--------------------------------------------------------------------------------------\n",
            "Epoch 0\n",
            "Train Epoch 0 Batch 0 | Loss: 0.6079 | L2: 1.0355 | DSSIM: 0.501\n",
            "Train Epoch 0 Batch 1 | Loss: 1.1485 | L2: 3.7855 | DSSIM: 0.4892\n",
            "Train Epoch 0 Batch 2 | Loss: 0.5892 | L2: 1.1275 | DSSIM: 0.4546\n",
            "Train Epoch 0 Batch 3 | Loss: 0.6134 | L2: 1.0257 | DSSIM: 0.5103\n",
            "Train Epoch 0 Batch 4 | Loss: 0.5753 | L2: 0.9797 | DSSIM: 0.4741\n",
            "Train Epoch 0 Batch 5 | Loss: 0.5767 | L2: 1.005 | DSSIM: 0.4697\n",
            "Train Epoch 0 Batch 6 | Loss: 0.5556 | L2: 0.9843 | DSSIM: 0.4484\n",
            "Train Epoch 0 Batch 7 | Loss: 0.5335 | L2: 0.9647 | DSSIM: 0.4257\n",
            "Train Epoch 0 Batch 8 | Loss: 0.5055 | L2: 0.9446 | DSSIM: 0.3958\n",
            "Train Epoch 0 Batch 9 | Loss: 0.469 | L2: 0.9012 | DSSIM: 0.361\n",
            "Train Epoch 0 Batch 10 | Loss: 0.4533 | L2: 0.9009 | DSSIM: 0.3414\n",
            "Train Epoch 0 Batch 11 | Loss: 0.4383 | L2: 0.8873 | DSSIM: 0.326\n",
            "Train Epoch 0 Batch 12 | Loss: 0.409 | L2: 0.832 | DSSIM: 0.3033\n",
            "Train Epoch 0 Batch 13 | Loss: 0.4116 | L2: 0.8983 | DSSIM: 0.29\n",
            "Train Epoch 0 Batch 14 | Loss: 0.3857 | L2: 0.8304 | DSSIM: 0.2745\n",
            "Train Epoch 0 Batch 15 | Loss: 0.373 | L2: 0.8098 | DSSIM: 0.2638\n",
            "Train Epoch 0 Batch 16 | Loss: 0.3527 | L2: 0.785 | DSSIM: 0.2446\n",
            "Train Epoch 0 Batch 17 | Loss: 0.3334 | L2: 0.7617 | DSSIM: 0.2263\n",
            "Train Epoch 0 Batch 18 | Loss: 0.334 | L2: 0.7817 | DSSIM: 0.2221\n",
            "Train Epoch 0 Batch 19 | Loss: 0.331 | L2: 0.7724 | DSSIM: 0.2206\n",
            "Train Epoch 0 Batch 20 | Loss: 0.3195 | L2: 0.7617 | DSSIM: 0.2089\n",
            "Train Epoch 0 Batch 21 | Loss: 0.3089 | L2: 0.7555 | DSSIM: 0.1973\n",
            "Train Epoch 0 Batch 22 | Loss: 0.31 | L2: 0.7754 | DSSIM: 0.1936\n",
            "Train Epoch 0 Batch 23 | Loss: 0.3025 | L2: 0.7609 | DSSIM: 0.1879\n",
            "Train Epoch 0 Batch 24 | Loss: 0.3009 | L2: 0.7573 | DSSIM: 0.1868\n",
            "Train Epoch 0 Batch 25 | Loss: 0.293 | L2: 0.7565 | DSSIM: 0.1771\n",
            "Train Epoch 0 Batch 26 | Loss: 0.2982 | L2: 0.7669 | DSSIM: 0.1811\n",
            "Train Epoch 0 Batch 27 | Loss: 0.2889 | L2: 0.7399 | DSSIM: 0.1761\n",
            "Train Epoch 0 Batch 28 | Loss: 0.2974 | L2: 0.7764 | DSSIM: 0.1777\n",
            "Train Epoch 0 Batch 29 | Loss: 0.2812 | L2: 0.7393 | DSSIM: 0.1667\n",
            "Train Epoch 0 Batch 30 | Loss: 0.2845 | L2: 0.7422 | DSSIM: 0.1701\n",
            "Train Epoch 0 Batch 31 | Loss: 0.2777 | L2: 0.7317 | DSSIM: 0.1642\n",
            "Train Epoch 0 Batch 32 | Loss: 0.2743 | L2: 0.7228 | DSSIM: 0.1622\n",
            "Train Epoch 0 Batch 33 | Loss: 0.2663 | L2: 0.7035 | DSSIM: 0.157\n",
            "Train Epoch 0 Batch 34 | Loss: 0.2818 | L2: 0.7791 | DSSIM: 0.1575\n",
            "Train Epoch 0 Batch 35 | Loss: 0.2758 | L2: 0.7553 | DSSIM: 0.1559\n",
            "Train Epoch 0 Batch 36 | Loss: 0.2755 | L2: 0.7695 | DSSIM: 0.1519\n",
            "Train Epoch 0 Batch 37 | Loss: 0.27 | L2: 0.7405 | DSSIM: 0.1524\n",
            "Train Epoch 0 Batch 38 | Loss: 0.268 | L2: 0.7414 | DSSIM: 0.1497\n",
            "Train Epoch 0 Batch 39 | Loss: 0.263 | L2: 0.7272 | DSSIM: 0.1469\n",
            "Train Epoch 0 Batch 40 | Loss: 0.2615 | L2: 0.7268 | DSSIM: 0.1452\n",
            "Train Epoch 0 Batch 41 | Loss: 0.2406 | L2: 0.6579 | DSSIM: 0.1363\n",
            "Train Epoch 0 Batch 42 | Loss: 0.2634 | L2: 0.7513 | DSSIM: 0.1415\n",
            "Train Epoch 0 Batch 43 | Loss: 0.2636 | L2: 0.7478 | DSSIM: 0.1426\n",
            "Train Epoch 0 Batch 44 | Loss: 0.258 | L2: 0.7244 | DSSIM: 0.1414\n",
            "Train Epoch 0 Batch 45 | Loss: 0.2593 | L2: 0.7389 | DSSIM: 0.1394\n",
            "Train Epoch 0 Batch 46 | Loss: 0.2489 | L2: 0.706 | DSSIM: 0.1347\n",
            "Train Epoch 0 Batch 47 | Loss: 0.2538 | L2: 0.7207 | DSSIM: 0.1371\n",
            "Train Epoch 0 Batch 48 | Loss: 0.2536 | L2: 0.7318 | DSSIM: 0.134\n",
            "Train Epoch 0 Batch 49 | Loss: 0.2527 | L2: 0.715 | DSSIM: 0.1371\n",
            "Train Epoch 0 Batch 50 | Loss: 0.2565 | L2: 0.7271 | DSSIM: 0.1389\n",
            "Train Epoch 0 Batch 51 | Loss: 0.2567 | L2: 0.7382 | DSSIM: 0.1364\n",
            "Train Epoch 0 Batch 52 | Loss: 0.2519 | L2: 0.7127 | DSSIM: 0.1366\n",
            "Train Epoch 0 Batch 53 | Loss: 0.2464 | L2: 0.7231 | DSSIM: 0.1272\n",
            "Train Epoch 0 Batch 54 | Loss: 0.2307 | L2: 0.6545 | DSSIM: 0.1248\n",
            "Train Epoch 0 Batch 55 | Loss: 0.2432 | L2: 0.6988 | DSSIM: 0.1292\n",
            "Train Epoch 0 Batch 56 | Loss: 0.2501 | L2: 0.7163 | DSSIM: 0.1335\n",
            "Train Epoch 0 Batch 57 | Loss: 0.2477 | L2: 0.7025 | DSSIM: 0.134\n",
            "Train Epoch 0 Batch 58 | Loss: 0.2478 | L2: 0.7077 | DSSIM: 0.1328\n",
            "Train Epoch 0 Batch 59 | Loss: 0.2543 | L2: 0.7437 | DSSIM: 0.132\n",
            "Train Epoch 0 Batch 60 | Loss: 0.2498 | L2: 0.7288 | DSSIM: 0.13\n",
            "Train Epoch 0 Batch 61 | Loss: 0.2451 | L2: 0.7188 | DSSIM: 0.1266\n",
            "Train Epoch 0 Batch 62 | Loss: 0.2387 | L2: 0.6892 | DSSIM: 0.1261\n",
            "Train Epoch 0 Batch 63 | Loss: 0.2401 | L2: 0.706 | DSSIM: 0.1236\n",
            "Train Epoch 0 Batch 64 | Loss: 0.2402 | L2: 0.6882 | DSSIM: 0.1282\n",
            "Train Epoch 0 Batch 65 | Loss: 0.2411 | L2: 0.695 | DSSIM: 0.1276\n",
            "Train Epoch 0 Batch 66 | Loss: 0.2476 | L2: 0.7219 | DSSIM: 0.129\n",
            "Train Epoch 0 Batch 67 | Loss: 0.2423 | L2: 0.728 | DSSIM: 0.1209\n",
            "Train Epoch 0 Batch 68 | Loss: 0.246 | L2: 0.7295 | DSSIM: 0.1252\n",
            "Train Epoch 0 Batch 69 | Loss: 0.2344 | L2: 0.6793 | DSSIM: 0.1231\n",
            "Train Epoch 0 Batch 70 | Loss: 0.2325 | L2: 0.6796 | DSSIM: 0.1207\n",
            "Train Epoch 0 Batch 71 | Loss: 0.2448 | L2: 0.727 | DSSIM: 0.1242\n",
            "Train Epoch 0 Batch 72 | Loss: 0.2348 | L2: 0.6747 | DSSIM: 0.1248\n",
            "Train Epoch 0 Batch 73 | Loss: 0.2363 | L2: 0.6937 | DSSIM: 0.122\n",
            "Train Epoch 0 Batch 74 | Loss: 0.2304 | L2: 0.6705 | DSSIM: 0.1203\n",
            "Train Epoch 0 Batch 75 | Loss: 0.249 | L2: 0.738 | DSSIM: 0.1268\n",
            "Train Epoch 0 Batch 76 | Loss: 0.2323 | L2: 0.6698 | DSSIM: 0.1229\n",
            "Train Epoch 0 Batch 77 | Loss: 0.2419 | L2: 0.7042 | DSSIM: 0.1263\n",
            "Train Epoch 0 Batch 78 | Loss: 0.2342 | L2: 0.6782 | DSSIM: 0.1232\n",
            "Train Epoch 0 Batch 79 | Loss: 0.2375 | L2: 0.7026 | DSSIM: 0.1213\n",
            "Train Epoch 0 Batch 80 | Loss: 0.2399 | L2: 0.7026 | DSSIM: 0.1243\n",
            "Train Epoch 0 Batch 81 | Loss: 0.235 | L2: 0.6741 | DSSIM: 0.1252\n",
            "Train Epoch 0 Batch 82 | Loss: 0.2297 | L2: 0.6644 | DSSIM: 0.121\n",
            "Train Epoch 0 Batch 83 | Loss: 0.2313 | L2: 0.6819 | DSSIM: 0.1186\n",
            "Train Epoch 0 Batch 84 | Loss: 0.2389 | L2: 0.721 | DSSIM: 0.1183\n",
            "Train Epoch 0 Batch 85 | Loss: 0.224 | L2: 0.6514 | DSSIM: 0.1171\n",
            "Train Epoch 0 Batch 86 | Loss: 0.2304 | L2: 0.6646 | DSSIM: 0.1219\n",
            "Train Epoch 0 Batch 87 | Loss: 0.244 | L2: 0.7288 | DSSIM: 0.1229\n",
            "Train Epoch 0 Batch 88 | Loss: 0.2347 | L2: 0.7067 | DSSIM: 0.1167\n",
            "Train Epoch 0 Batch 89 | Loss: 0.2281 | L2: 0.6757 | DSSIM: 0.1162\n",
            "Train Epoch 0 Batch 90 | Loss: 0.2368 | L2: 0.6884 | DSSIM: 0.1239\n",
            "Train Epoch 0 Batch 91 | Loss: 0.2355 | L2: 0.6916 | DSSIM: 0.1215\n",
            "Train Epoch 0 Batch 92 | Loss: 0.232 | L2: 0.695 | DSSIM: 0.1163\n",
            "Train Epoch 0 Batch 93 | Loss: 0.2216 | L2: 0.6448 | DSSIM: 0.1158\n",
            "Train Epoch 0 Batch 94 | Loss: 0.2315 | L2: 0.683 | DSSIM: 0.1186\n",
            "Train Epoch 0 Batch 95 | Loss: 0.2255 | L2: 0.656 | DSSIM: 0.1179\n",
            "Train Epoch 0 Batch 96 | Loss: 0.2282 | L2: 0.6789 | DSSIM: 0.1155\n",
            "Train Epoch 0 Batch 97 | Loss: 0.2289 | L2: 0.6897 | DSSIM: 0.1137\n",
            "Train Epoch 0 Batch 98 | Loss: 0.2298 | L2: 0.6729 | DSSIM: 0.119\n",
            "Train Epoch 0 Batch 99 | Loss: 0.2213 | L2: 0.6237 | DSSIM: 0.1207\n",
            "Train Epoch 0 Batch 100 | Loss: 0.2299 | L2: 0.684 | DSSIM: 0.1163\n",
            "Train Epoch 0 Batch 101 | Loss: 0.2318 | L2: 0.6951 | DSSIM: 0.116\n",
            "Train Epoch 0 Batch 102 | Loss: 0.2213 | L2: 0.6515 | DSSIM: 0.1138\n",
            "Train Epoch 0 Batch 103 | Loss: 0.2291 | L2: 0.6618 | DSSIM: 0.1209\n",
            "Train Epoch 0 Batch 104 | Loss: 0.2383 | L2: 0.7099 | DSSIM: 0.1204\n",
            "Train Epoch 0 Batch 105 | Loss: 0.2291 | L2: 0.691 | DSSIM: 0.1136\n",
            "Train Epoch 0 Batch 106 | Loss: 0.2189 | L2: 0.6504 | DSSIM: 0.111\n",
            "Train Epoch 0 Batch 107 | Loss: 0.2364 | L2: 0.6855 | DSSIM: 0.1241\n",
            "Train Epoch 0 Batch 108 | Loss: 0.2322 | L2: 0.6867 | DSSIM: 0.1186\n",
            "Train Epoch 0 Batch 109 | Loss: 0.2087 | L2: 0.6082 | DSSIM: 0.1088\n",
            "*************************** VAL ***************************\n",
            "Epoch: 0\n",
            "VAL :: Epoch 0 Batch 0 | Loss: 0.224 | L2: 0.6572 | DSSIM: 0.1157\n",
            "VAL :: Epoch 0 Batch 10 | Loss: 0.2364 | L2: 0.6956 | DSSIM: 0.1216\n",
            "VAL :: Epoch 0 Batch 20 | Loss: 0.2289 | L2: 0.666 | DSSIM: 0.1196\n",
            "VAL :: Epoch 0 Batch 30 | Loss: 0.2349 | L2: 0.685 | DSSIM: 0.1223\n",
            "--------------------------------------------------------------------------------------\n",
            "Epoch 1\n",
            "Train Epoch 1 Batch 0 | Loss: 0.2373 | L2: 0.7216 | DSSIM: 0.1162\n",
            "Train Epoch 1 Batch 1 | Loss: 0.2291 | L2: 0.6747 | DSSIM: 0.1177\n",
            "Train Epoch 1 Batch 2 | Loss: 0.2195 | L2: 0.636 | DSSIM: 0.1153\n",
            "Train Epoch 1 Batch 3 | Loss: 0.2253 | L2: 0.6638 | DSSIM: 0.1156\n",
            "Train Epoch 1 Batch 4 | Loss: 0.2277 | L2: 0.6916 | DSSIM: 0.1117\n",
            "Train Epoch 1 Batch 5 | Loss: 0.231 | L2: 0.6792 | DSSIM: 0.119\n",
            "Train Epoch 1 Batch 6 | Loss: 0.2359 | L2: 0.6909 | DSSIM: 0.1221\n",
            "Train Epoch 1 Batch 7 | Loss: 0.2273 | L2: 0.6676 | DSSIM: 0.1172\n",
            "Train Epoch 1 Batch 8 | Loss: 0.22 | L2: 0.6565 | DSSIM: 0.1108\n",
            "Train Epoch 1 Batch 9 | Loss: 0.219 | L2: 0.6534 | DSSIM: 0.1104\n",
            "Train Epoch 1 Batch 10 | Loss: 0.23 | L2: 0.6899 | DSSIM: 0.115\n",
            "Train Epoch 1 Batch 11 | Loss: 0.2181 | L2: 0.6332 | DSSIM: 0.1144\n"
          ],
          "name": "stdout"
        }
      ]
    },
    {
      "cell_type": "code",
      "metadata": {
        "id": "WBv2IsvlCZmS"
      },
      "source": [
        "torch.save(model,'/content/gdrive/MyDrive/CUDA/Model_MMNIST/PR/mmnist_Ruben_12042021_1318.pkl')"
      ],
      "execution_count": 35,
      "outputs": []
    },
    {
      "cell_type": "code",
      "metadata": {
        "id": "H0ihh7vzzz_1"
      },
      "source": [
        ""
      ],
      "execution_count": 35,
      "outputs": []
    },
    {
      "cell_type": "markdown",
      "metadata": {
        "id": "NM4EpxAR0cLP"
      },
      "source": [
        "## Plot per epoch loss"
      ]
    },
    {
      "cell_type": "code",
      "metadata": {
        "colab": {
          "base_uri": "https://localhost:8080/",
          "height": 324
        },
        "id": "1mZko9Pqz0DT",
        "outputId": "1fd857f9-bf83-47df-ac93-dbc844bc0fd2"
      },
      "source": [
        "plt.plot(Epoch_Loss, label = 'Combined Loss')\n",
        "plt.plot(Epoch_L2, label = 'L2 loss')\n",
        "plt.plot(Epoch_DSSIM, label = 'DSSIM loss')\n",
        "plt.xlabel('Number of Epochs')\n",
        "plt.ylabel('Loss')\n",
        "plt.legend()"
      ],
      "execution_count": 58,
      "outputs": [
        {
          "output_type": "execute_result",
          "data": {
            "text/plain": [
              "<matplotlib.legend.Legend at 0x7fdbeca03490>"
            ]
          },
          "metadata": {
            "tags": []
          },
          "execution_count": 58
        },
        {
          "output_type": "display_data",
          "data": {
            "image/png": "[encoded data removed]",
            "text/plain": [
              "<Figure size 480x320 with 1 Axes>"
            ]
          },
          "metadata": {
            "tags": [],
            "needs_background": "light"
          }
        }
      ]
    },
    {
      "cell_type": "markdown",
      "metadata": {
        "id": "Sl-JnO880fG_"
      },
      "source": [
        "## Plot train and validation"
      ]
    },
    {
      "cell_type": "code",
      "metadata": {
        "colab": {
          "base_uri": "https://localhost:8080/",
          "height": 324
        },
        "id": "zMHhnv2awgrq",
        "outputId": "c303e329-aca0-4b24-a157-dbf2eced4036"
      },
      "source": [
        "plt.plot(Epoch_Loss, label = 'Training Combined Loss')\n",
        "plt.plot(Val_Epoch_Loss, label = 'Validation Combined Loss')\n",
        "plt.xlabel('Number of Epochs')\n",
        "plt.ylabel('Loss')\n",
        "plt.legend()"
      ],
      "execution_count": 59,
      "outputs": [
        {
          "output_type": "execute_result",
          "data": {
            "text/plain": [
              "<matplotlib.legend.Legend at 0x7fdbec90ef10>"
            ]
          },
          "metadata": {
            "tags": []
          },
          "execution_count": 59
        },
        {
          "output_type": "display_data",
          "data": {
            "image/png": "[encoded data removed]",
            "text/plain": [
              "<Figure size 480x320 with 1 Axes>"
            ]
          },
          "metadata": {
            "tags": [],
            "needs_background": "light"
          }
        }
      ]
    },
    {
      "cell_type": "code",
      "metadata": {
        "colab": {
          "base_uri": "https://localhost:8080/",
          "height": 325
        },
        "id": "7WCKHdPy0jQ7",
        "outputId": "c7655f5e-bb94-4cee-ef94-7e099e61274f"
      },
      "source": [
        "plt.plot(Epoch_L2, label = 'Training L2 Loss')\n",
        "plt.plot(Val_Epoch_L2, label = 'Validation L2 Loss')\n",
        "plt.xlabel('Number of Epochs')\n",
        "plt.ylabel('Loss')\n",
        "plt.legend()"
      ],
      "execution_count": 61,
      "outputs": [
        {
          "output_type": "execute_result",
          "data": {
            "text/plain": [
              "<matplotlib.legend.Legend at 0x7fdbec98c390>"
            ]
          },
          "metadata": {
            "tags": []
          },
          "execution_count": 61
        },
        {
          "output_type": "display_data",
          "data": {
            "image/png": "[encoded data removed]",
            "text/plain": [
              "<Figure size 480x320 with 1 Axes>"
            ]
          },
          "metadata": {
            "tags": [],
            "needs_background": "light"
          }
        }
      ]
    },
    {
      "cell_type": "code",
      "metadata": {
        "colab": {
          "base_uri": "https://localhost:8080/",
          "height": 324
        },
        "id": "uQJ4TBNx0jTP",
        "outputId": "2da691b6-c5b1-42fc-9d22-abddc639179c"
      },
      "source": [
        "plt.plot(Epoch_DSSIM, label = 'Training DSSIM Loss')\n",
        "plt.plot(Val_Epoch_DSSIM, label = 'Validation DSSIM Loss')\n",
        "plt.xlabel('Number of Epochs')\n",
        "plt.ylabel('Loss')\n",
        "plt.legend()"
      ],
      "execution_count": 55,
      "outputs": [
        {
          "output_type": "execute_result",
          "data": {
            "text/plain": [
              "<matplotlib.legend.Legend at 0x7fdbec58ee90>"
            ]
          },
          "metadata": {
            "tags": []
          },
          "execution_count": 55
        },
        {
          "output_type": "display_data",
          "data": {
            "image/png": "[encoded data removed]",
            "text/plain": [
              "<Figure size 480x320 with 1 Axes>"
            ]
          },
          "metadata": {
            "tags": [],
            "needs_background": "light"
          }
        }
      ]
    },
    {
      "cell_type": "markdown",
      "metadata": {
        "id": "_-QhzZ8ZF3w-"
      },
      "source": [
        "## Plot Pred images (Pred0 to Pred2)"
      ]
    },
    {
      "cell_type": "code",
      "metadata": {
        "id": "VFvUaZzw-bbL"
      },
      "source": [
        "path = '/content/gdrive/MyDrive/CUDA/Output Images/MMNIST/Pred/'\n",
        "version = 1"
      ],
      "execution_count": 40,
      "outputs": []
    },
    {
      "cell_type": "code",
      "metadata": {
        "id": "em2RIJX8g-rx"
      },
      "source": [
        "counter = 0\n",
        "i = 0# Instance number\n",
        "b = 16  #8Batch Size\n",
        "for i in range(16):\n",
        "  print(\"**********************************\", i , \"****************************************************\")\n",
        "  plt.imshow(Pred[i].reshape([height,width]).detach().cpu(), cmap = 'gray')\n",
        "  plt.savefig(path+'Version'+str(version)+'_Pred'+str(counter)+'.png')\n",
        "  plt.pause(1)\n",
        "  plt.imshow(Pred[i + b ].reshape([height,width]).detach().cpu(), cmap = 'gray')\n",
        "  plt.savefig(path+'Version'+str(version)+'_Pred'+str(counter+1)+'.png')\n",
        "  plt.pause(1)\n",
        "  plt.imshow(Pred[i + 2*b].reshape([height,width]).detach().cpu(), cmap = 'gray')\n",
        "  plt.savefig(path+'Version'+str(version)+'_Pred'+str(counter+2)+'.png')\n",
        "  plt.pause(1)\n",
        "  counter = counter + 3\n",
        "  "
      ],
      "execution_count": null,
      "outputs": []
    },
    {
      "cell_type": "markdown",
      "metadata": {
        "id": "eLvh8a4fGB5A"
      },
      "source": [
        "## Plot GT images (GT0 to GT2)"
      ]
    },
    {
      "cell_type": "code",
      "metadata": {
        "id": "ApbU7cf7Clg0"
      },
      "source": [
        "path = '/content/gdrive/MyDrive/CUDA/Output Images/MMNIST/GT/'\n",
        "version = 0"
      ],
      "execution_count": 42,
      "outputs": []
    },
    {
      "cell_type": "code",
      "metadata": {
        "id": "bMu5Je6ODBeS"
      },
      "source": [
        "counter = 0\n",
        "for i in range(16):\n",
        "  for j in range(0,3):\n",
        "    plt.imshow(frames[1][i,j,:,:,:].reshape([width,height]).detach().cpu(), cmap = 'gray')\n",
        "    plt.savefig(path+'Version'+str(version)+'_GT'+str(counter)+'.png')\n",
        "    plt.pause(1)\n",
        "    #print(\"done\",i,j,counter)\n",
        "    counter = counter + 1\n",
        "    \n",
        "  for j in range(0,3):\n",
        "    plt.imshow(frames[2][i,j,:,:,:].reshape([width,height]).detach().cpu(), cmap = 'gray')\n",
        "    plt.savefig(path+'Version'+str(version)+'_GT'+str(counter)+'.png')\n",
        "    plt.pause(1)\n",
        "    #print(\"done\",i,j,counter)\n",
        "    counter = counter + 1\n",
        "  \n"
      ],
      "execution_count": null,
      "outputs": []
    },
    {
      "cell_type": "markdown",
      "metadata": {
        "id": "VuNZXZz5GQBO"
      },
      "source": [
        "## Plot GT images (GT3 to GT5)"
      ]
    },
    {
      "cell_type": "code",
      "metadata": {
        "id": "8Byb7Fr6r5fH"
      },
      "source": [
        "\n",
        "i = 6\n",
        "for i in range(5):\n",
        "  plt.imshow(frames[2][i,0,:,:,:].reshape([width,height]).detach().cpu(), cmap = 'gray')\n",
        "  plt.savefig(path+'Version'+str(version)+'_Pred'+str(counter)+'.png')\n",
        "  plt.pause(1)\n",
        "  plt.imshow(frames[2][i,1,:,:,:].reshape([width,height]).detach().cpu(), cmap = 'gray')\n",
        "  plt.savefig(path+'Version'+str(version)+'_Pred'+str(counter)+'.png')\n",
        "  plt.pause(1)\n",
        "  plt.imshow(frames[2][i,2,:,:,:].reshape([width,height]).detach().cpu(), cmap = 'gray')\n",
        "  plt.savefig(path+'Version'+str(version)+'_Pred'+str(counter)+'.png')\n",
        "  plt.pause(1)"
      ],
      "execution_count": null,
      "outputs": []
    }
  ]
}